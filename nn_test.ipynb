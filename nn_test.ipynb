{
 "cells": [
  {
   "cell_type": "code",
   "execution_count": 97,
   "metadata": {},
   "outputs": [],
   "source": [
    "import numpy as np\n",
    "import random\n",
    "from get_loader import get_loader\n",
    "import matplotlib\n",
    "\n",
    "from models import *\n",
    "from utils import *\n",
    "\n",
    "import datetime\n",
    "\n",
    "import torch\n",
    "import torch.nn as nn\n",
    "import torch.nn.functional as F\n",
    "from torch.utils import data\n",
    "import seaborn as sns\n",
    "import pandas as pd\n",
    "from kfac import KFAC"
   ]
  },
  {
   "cell_type": "code",
   "execution_count": 98,
   "metadata": {},
   "outputs": [],
   "source": [
    "# plt.style.use('ggplot')\n",
    "fig_size = plt.rcParams[\"figure.figsize\"]  \n",
    "fig_size[0] = 10  \n",
    "fig_size[1] = 8  \n",
    "plt.rcParams[\"figure.figsize\"] = fig_size  \n",
    "plt.rcParams.update({'font.size': 20})"
   ]
  },
  {
   "cell_type": "code",
   "execution_count": null,
   "metadata": {},
   "outputs": [],
   "source": []
  },
  {
   "cell_type": "code",
   "execution_count": 99,
   "metadata": {},
   "outputs": [
    {
     "name": "stdout",
     "output_type": "stream",
     "text": [
      "cpu\n"
     ]
    }
   ],
   "source": [
    "class args:\n",
    "    batch_size=64\n",
    "    dataset_size=1000\n",
    "    dataset='svhn'\n",
    "    estim_size=5000\n",
    "    model='cnn'\n",
    "    lr=0.005\n",
    "    momentum=0.9\n",
    "    mode='inv'\n",
    "    rcond=1e-8\n",
    "    corrupt=0.\n",
    "    reg=1e-2\n",
    "    cuda = torch.cuda.is_available()\n",
    "\n",
    "\n",
    "\n",
    "cuda = torch.cuda.is_available()\n",
    "device = torch.device(\"cuda\" if cuda else \"cpu\")\n",
    "print(device)\n",
    "N, N_te = min(args.dataset_size, 60000), min(args.dataset_size, 10000)\n",
    "args.dataset_size = N\n",
    "args.test_size = N_te\n",
    "\n",
    "args.device=device\n",
    "now = datetime.datetime.now()"
   ]
  },
  {
   "cell_type": "code",
   "execution_count": 100,
   "metadata": {},
   "outputs": [
    {
     "name": "stdout",
     "output_type": "stream",
     "text": [
      "Using downloaded and verified file: ./train_32x32.mat\n",
      "Using downloaded and verified file: ./test_32x32.mat\n",
      "Dataset loaders done\n"
     ]
    }
   ],
   "source": [
    "train_loader, test_loader = get_loader(args)"
   ]
  },
  {
   "cell_type": "code",
   "execution_count": 101,
   "metadata": {},
   "outputs": [
    {
     "name": "stdout",
     "output_type": "stream",
     "text": [
      "The network has 4680 parameters.\n"
     ]
    }
   ],
   "source": [
    "\n",
    "\n",
    "\n",
    "if args.model == 'cnn':\n",
    "    model = SmallCNN().to(device)\n",
    "elif args.model == 'cnn_bn':\n",
    "    model = SmallCNN_BN().to(device)\n",
    "elif args.model == 'logreg':\n",
    "    model = LogReg().to(device)\n",
    "elif args.model == 'mlp':\n",
    "    model = MLP().to(device)\n",
    "elif args.model == 'big_mlp':\n",
    "    model = BigMLP().to(device)\n",
    "else:\n",
    "    print('No model recognized')\n",
    "\n",
    "\n",
    "optimizer = torch.optim.SGD(model.parameters(), lr=args.lr, momentum=args.momentum)\n",
    "#optimizer = torch.optim.Adam(model.parameters(), lr = lr)\n",
    "n_param = sum(p.numel() for p in model.parameters())\n",
    "\n",
    "folder =\\\n",
    "f'./log/{now.month}_{now.day}/{now.isoformat()}_lr={args.lr}_param={n_param}_N={N}_bs={args.batch_size}_mu={args.momentum}_model={args.model}_n_estim={args.estim_size}'\n",
    "# writer = SummaryWriter(log_dir=folder)\n",
    "# for t in range(50000):"
   ]
  },
  {
   "cell_type": "code",
   "execution_count": 102,
   "metadata": {},
   "outputs": [],
   "source": [
    "param = model.parameters()\n",
    "\n",
    "def parameters_to_vector(parameters):\n",
    "    r\"\"\"Convert parameters to one vector\n",
    "\n",
    "    Arguments:\n",
    "        parameters (Iterable[Tensor]): an iterator of Tensors that are the\n",
    "            parameters of a model.\n",
    "\n",
    "    Returns:\n",
    "        The parameters represented by a single vector\n",
    "    \"\"\"\n",
    "    # Flag for the device where the parameter is located\n",
    "    param_device = None\n",
    "\n",
    "    vec = []\n",
    "    for param in parameters:\n",
    "        # Ensure the parameters are located in the same device\n",
    "#         param_device = _check_param_device(param, param_device)\n",
    "\n",
    "        vec.append(param.cpu().view(-1))\n",
    "    return torch.cat(vec)"
   ]
  },
  {
   "cell_type": "code",
   "execution_count": null,
   "metadata": {},
   "outputs": [],
   "source": []
  },
  {
   "cell_type": "code",
   "execution_count": null,
   "metadata": {},
   "outputs": [],
   "source": []
  },
  {
   "cell_type": "code",
   "execution_count": null,
   "metadata": {},
   "outputs": [],
   "source": []
  },
  {
   "cell_type": "code",
   "execution_count": 103,
   "metadata": {},
   "outputs": [
    {
     "name": "stdout",
     "output_type": "stream",
     "text": [
      "0 2.3204121589660645\n",
      "Loss tr: 2.314469575881958, te: 2.325032949447632\n",
      "100 2.2558107376098633\n",
      "Loss tr: 2.2207751274108887, te: 2.2368640899658203\n",
      "200 2.219388961791992\n",
      "Loss tr: 2.199721574783325, te: 2.226418972015381\n",
      "300 2.181596040725708\n",
      "Loss tr: 2.1662697792053223, te: 2.205315113067627\n",
      "400 2.0633373260498047\n",
      "Loss tr: 2.1098415851593018, te: 2.1583850383758545\n",
      "500 1.9497065544128418\n",
      "Loss tr: 2.027989387512207, te: 2.108442783355713\n",
      "600 1.9015997648239136\n",
      "Loss tr: 1.943527102470398, te: 2.050548553466797\n",
      "700 1.9034560918807983\n",
      "Loss tr: 1.8573306798934937, te: 2.015944004058838\n",
      "800 1.5303627252578735\n",
      "Loss tr: 1.7574363946914673, te: 1.9747505187988281\n",
      "900 1.7468072175979614\n",
      "Loss tr: 1.655409336090088, te: 1.9042761325836182\n",
      "1000 1.6105709075927734\n",
      "Loss tr: 1.549426555633545, te: 1.8414157629013062\n",
      "1100 1.5588386058807373\n",
      "Loss tr: 1.435975432395935, te: 1.7835880517959595\n",
      "1200 1.6615320444107056\n",
      "Loss tr: 1.3312568664550781, te: 1.7429341077804565\n",
      "1300 1.3212696313858032\n",
      "Loss tr: 1.233394742012024, te: 1.7447565793991089\n",
      "1400 1.1686842441558838\n",
      "Loss tr: 1.1290329694747925, te: 1.7171622514724731\n",
      "1500 0.7996132373809814\n",
      "Loss tr: 1.0245345830917358, te: 1.6757853031158447\n",
      "1600 0.8492066860198975\n",
      "Loss tr: 0.9469586610794067, te: 1.6560195684432983\n",
      "1700 0.7896807193756104\n",
      "Loss tr: 0.87615966796875, te: 1.6879522800445557\n",
      "1800 0.8330427408218384\n",
      "Loss tr: 0.8173442482948303, te: 1.7238504886627197\n",
      "1900 0.5927446484565735\n",
      "Loss tr: 0.730072021484375, te: 1.7177317142486572\n",
      "2000 0.6819218397140503\n",
      "Loss tr: 0.6813919544219971, te: 1.7322403192520142\n",
      "2100 0.5681791305541992\n",
      "Loss tr: 0.6269537806510925, te: 1.7685065269470215\n",
      "2200 0.4676891267299652\n",
      "Loss tr: 0.5721502304077148, te: 1.8351349830627441\n",
      "2300 0.5355643033981323\n",
      "Loss tr: 0.5337871313095093, te: 1.961814284324646\n",
      "2400 0.5740936398506165\n",
      "Loss tr: 0.4886789917945862, te: 1.9194284677505493\n",
      "2500 0.49587225914001465\n",
      "Loss tr: 0.4484957158565521, te: 2.0194430351257324\n",
      "2600 0.4716835021972656\n",
      "Loss tr: 0.409537672996521, te: 2.0312418937683105\n",
      "2700 0.38117873668670654\n",
      "Loss tr: 0.3755001127719879, te: 2.1374123096466064\n",
      "2800 0.44126996397972107\n",
      "Loss tr: 0.3479333817958832, te: 2.233264684677124\n",
      "2900 0.220804363489151\n",
      "Loss tr: 0.32097387313842773, te: 2.297239065170288\n",
      "3000 0.28161507844924927\n",
      "Loss tr: 0.2789958417415619, te: 2.401648998260498\n",
      "3100 0.29188966751098633\n",
      "Loss tr: 0.2562229037284851, te: 2.4531054496765137\n",
      "3200 0.28620535135269165\n",
      "Loss tr: 0.22962763905525208, te: 2.5435972213745117\n",
      "3300 0.1692914515733719\n",
      "Loss tr: 0.20845690369606018, te: 2.6391899585723877\n",
      "3400 0.1260896921157837\n",
      "Loss tr: 0.17807644605636597, te: 2.721508741378784\n",
      "3500 0.15411296486854553\n",
      "Loss tr: 0.18791906535625458, te: 2.844588279724121\n",
      "3600 0.17057117819786072\n",
      "Loss tr: 0.14740411937236786, te: 2.896250009536743\n",
      "3700 0.12024014443159103\n",
      "Loss tr: 0.13777972757816315, te: 3.0258629322052\n",
      "3800 0.16522231698036194\n",
      "Loss tr: 0.11625915765762329, te: 3.0721168518066406\n",
      "3900 0.13064302504062653\n",
      "Loss tr: 0.10698123276233673, te: 3.158040761947632\n",
      "4000 0.0635228380560875\n",
      "Loss tr: 0.10219153016805649, te: 3.2047276496887207\n",
      "4100 0.07681118696928024\n",
      "Loss tr: 0.08507819473743439, te: 3.338574171066284\n",
      "4200 0.07548636198043823\n",
      "Loss tr: 0.07610377669334412, te: 3.3823189735412598\n",
      "4300 0.07809147238731384\n",
      "Loss tr: 0.07004620879888535, te: 3.4711670875549316\n",
      "4400 0.04732852429151535\n",
      "Loss tr: 0.06064007803797722, te: 3.5229251384735107\n",
      "4500 0.04363393038511276\n",
      "Loss tr: 0.05668617784976959, te: 3.6206459999084473\n",
      "4600 0.05756845325231552\n",
      "Loss tr: 0.051343806087970734, te: 3.6449148654937744\n",
      "4700 0.04974524676799774\n",
      "Loss tr: 0.047392990440130234, te: 3.725257635116577\n",
      "4800 0.03980724513530731\n",
      "Loss tr: 0.043189480900764465, te: 3.8055150508880615\n",
      "4900 0.0536627396941185\n",
      "Loss tr: 0.04065012186765671, te: 3.8864622116088867\n",
      "5000 0.041376642882823944\n",
      "Loss tr: 0.03684408217668533, te: 3.942450523376465\n",
      "5100 0.05240713432431221\n",
      "Loss tr: 0.03645723685622215, te: 3.9736428260803223\n",
      "5200 0.023932121694087982\n",
      "Loss tr: 0.03214866295456886, te: 4.0318217277526855\n",
      "5300 0.031235039234161377\n",
      "Loss tr: 0.03054816462099552, te: 4.0955376625061035\n",
      "5400 0.0301097109913826\n",
      "Loss tr: 0.028799695894122124, te: 4.1191911697387695\n",
      "5500 0.02943800389766693\n",
      "Loss tr: 0.026863042265176773, te: 4.1701483726501465\n",
      "5600 0.02492567151784897\n",
      "Loss tr: 0.025098690763115883, te: 4.217968463897705\n",
      "5700 0.03400731831789017\n",
      "Loss tr: 0.02395550161600113, te: 4.277068614959717\n",
      "5800 0.02445872873067856\n",
      "Loss tr: 0.02268405072391033, te: 4.315488338470459\n",
      "5900 0.017611175775527954\n",
      "Loss tr: 0.021262912079691887, te: 4.35507345199585\n",
      "6000 0.022678911685943604\n",
      "Loss tr: 0.019997987896203995, te: 4.39954948425293\n",
      "6100 0.02405737340450287\n",
      "Loss tr: 0.019073279574513435, te: 4.41716194152832\n",
      "6200 0.022426769137382507\n",
      "Loss tr: 0.018603621050715446, te: 4.457772731781006\n",
      "6300 0.019558019936084747\n",
      "Loss tr: 0.01753314957022667, te: 4.512267112731934\n",
      "6400 0.014562122523784637\n",
      "Loss tr: 0.01661667227745056, te: 4.530008792877197\n",
      "6500 0.018886208534240723\n",
      "Loss tr: 0.015856273472309113, te: 4.579726696014404\n",
      "6600 0.022347822785377502\n",
      "Loss tr: 0.015234671533107758, te: 4.6026458740234375\n",
      "6700 0.013385072350502014\n",
      "Loss tr: 0.014740857295691967, te: 4.632983207702637\n",
      "6800 0.014885872602462769\n",
      "Loss tr: 0.014075975865125656, te: 4.661046504974365\n",
      "6900 0.00907367467880249\n",
      "Loss tr: 0.013494267128407955, te: 4.6982269287109375\n",
      "7000 0.013020098209381104\n",
      "Loss tr: 0.013114734552800655, te: 4.73921012878418\n"
     ]
    },
    {
     "data": {
      "text/plain": [
       "SmallCNN(\n",
       "  (main): Sequential(\n",
       "    (0): Conv2d(1, 15, kernel_size=(3, 3), stride=(1, 1))\n",
       "    (1): ReLU(inplace)\n",
       "    (2): Conv2d(15, 20, kernel_size=(3, 3), stride=(1, 1))\n",
       "    (3): ReLU(inplace)\n",
       "    (4): Conv2d(20, 10, kernel_size=(3, 3), stride=(1, 1))\n",
       "  )\n",
       ")"
      ]
     },
     "execution_count": 103,
     "metadata": {},
     "output_type": "execute_result"
    }
   ],
   "source": [
    "t = 0\n",
    "total_t = 7000\n",
    "# model.train()\n",
    "log_step = 100\n",
    "eig_list_tr = []\n",
    "eig_list_te = []\n",
    "\n",
    "\n",
    "kfac_tic_list = []\n",
    "low_rank_tic_list = []\n",
    "gap_list = []\n",
    "while t <= total_t:\n",
    "    for data, labels in train_loader:\n",
    "        data, labels = data.to(args.device), labels.to(args.device)\n",
    "        y_pred = model(data)\n",
    "\n",
    "        loss = F.nll_loss(y_pred, labels)\n",
    "        if t % log_step == 0:\n",
    "#             model.eval()\n",
    "            print(t, loss.item())\n",
    "            loss_tr = compute_loss(args, train_loader, model)\n",
    "            loss_te = compute_loss(args, test_loader, model)\n",
    "            gap = (loss_te-loss_tr).item()\n",
    "            print(f'Loss tr: {loss_tr}, te: {loss_te}')\n",
    "        \n",
    "            gap_list.append(gap)\n",
    "            kfac_tic_list.append(calculate_kfac_tic(args, test_loader, model, 0))\n",
    "            low_rank_tic_list.append(calculate_low_rank_tic(args, test_loader, model, 1))\n",
    "#             fr_tr = compute_fisher_rao(args, train_loader, model)\n",
    "#             fr_te = compute_fisher_rao(args, test_loader, model)\n",
    "#             #writer.add_scalar( t)\n",
    "#             #writer.add_scalar( t)\n",
    "\n",
    "#             sens_tr =  compute_sensitivity(args, train_loader, model)\n",
    "#             sens_te =  compute_sensitivity(args, test_loader, model)\n",
    "#             dic = { 'loss/tr': loss_tr.item(),\\\n",
    "#             'loss/te': loss_te.item(),\\\n",
    "#             'loss/gap': gap,\\\n",
    "#             'fisher_rao/tr': fr_tr.item(),\\\n",
    "#             'fisher_rao/te': fr_te.item(),\\\n",
    "#             'sensitivity/tr': sens_tr.item(),\\\n",
    "#             'sensitivity/te': sens_te.item()}\n",
    "#             for n, m in dic.items():\n",
    "#                 writer.add_scalar(n, m, t)\n",
    "#                 experiment.log_metric(n, m, t)\n",
    "#             model.train()\n",
    "\n",
    "        if t % log_step  == 0:\n",
    "            model.eval()\n",
    "#             print(t, 'gap:', gap)\n",
    "#             # Gauss Newton\n",
    "#             Gtr = calculate_gaussnewton(args, train_loader, model)\n",
    "#             Gte = calculate_gaussnewton(args, test_loader, model)\n",
    "#             print('Computed Gauss Newton')\n",
    "#             _, trGtr, _ = stat_mat(Gtr)\n",
    "#             _, trGte, _ = stat_mat(Gte)\n",
    "\n",
    "#             # fisher\n",
    "#             Ftr = calculate_fisher(args, train_loader, model)\n",
    "#             eig_tr = np.linalg.eigvalsh(Ftr).ravel()\n",
    "#             eig_list_tr.append(eig_tr)\n",
    "#             Fte = calculate_fisher(args, test_loader, model)\n",
    "#             eig_te = np.linalg.eigvalsh(Fte).ravel()\n",
    "#             eig_list_te.append(eig_te)\n",
    "            \n",
    "            \n",
    "            \n",
    "#             Fte = calculate_fisher(args, test_loader, model)\n",
    "#             print('Computed fisher')\n",
    "#             _, trFtr, _ = stat_mat(Ftr)\n",
    "#             _, trFte, _ = stat_mat(Fte)\n",
    "#             # hessian\n",
    "#             Htr = calculate_hessian(args, train_loader, model)\n",
    "#             Hte = calculate_hessian(args, test_loader, model)\n",
    "#             print('Computed hessians')\n",
    "\n",
    "#             _, trHtr, _ = stat_mat(Htr)\n",
    "#             _, trHte, _ = stat_mat(Hte)\n",
    "#             # covariance\n",
    "#             Ctr = calculate_covariance(args, train_loader, model)\n",
    "#             Cte = calculate_covariance(args, test_loader, model)\n",
    "#             print('Computed covariances')\n",
    "#             _, trCtr, _ = stat_mat(Ctr)\n",
    "#             _, trCte, _ = stat_mat(Cte)\n",
    "\n",
    "            model.train()\n",
    "# \n",
    "        optimizer.zero_grad()\n",
    "        loss.backward()\n",
    "        optimizer.step()\n",
    "        t += 1\n",
    "model.eval()\n",
    "\n"
   ]
  },
  {
   "cell_type": "code",
   "execution_count": 104,
   "metadata": {},
   "outputs": [
    {
     "data": {
      "text/plain": [
       "4.726095199584961"
      ]
     },
     "execution_count": 104,
     "metadata": {},
     "output_type": "execute_result"
    }
   ],
   "source": [
    "gap"
   ]
  },
  {
   "cell_type": "code",
   "execution_count": 105,
   "metadata": {},
   "outputs": [
    {
     "data": {
      "text/plain": [
       "281.018125"
      ]
     },
     "execution_count": 105,
     "metadata": {},
     "output_type": "execute_result"
    }
   ],
   "source": [
    "calculate_kfac_tic(args, test_loader, model)"
   ]
  },
  {
   "cell_type": "code",
   "execution_count": 116,
   "metadata": {},
   "outputs": [
    {
     "data": {
      "text/plain": [
       "Text(0, 0.5, 'estimated gap')"
      ]
     },
     "execution_count": 116,
     "metadata": {},
     "output_type": "execute_result"
    },
    {
     "data": {
      "image/png": "[encoded data removed]",
      "text/plain": [
       "<Figure size 720x576 with 1 Axes>"
      ]
     },
     "metadata": {
      "needs_background": "light"
     },
     "output_type": "display_data"
    }
   ],
   "source": [
    "# plt.plot(gap_list, kfac_tic_list)\n",
    "# plt.plot(gap_list, np.sqrt(np.array(kfac_tic_list)))\n",
    "plt.plot(gap_list, np.array(low_rank_tic_list))\n",
    "\n",
    "plt.xlabel('gap')\n",
    "plt.ylabel('estimated gap')\n",
    "# plt.plot()\n",
    "# plt.yscale('log')"
   ]
  },
  {
   "cell_type": "code",
   "execution_count": 114,
   "metadata": {},
   "outputs": [
    {
     "data": {
      "text/plain": [
       "Text(0, 0.5, 'gap')"
      ]
     },
     "execution_count": 114,
     "metadata": {},
     "output_type": "execute_result"
    },
    {
     "data": {
      "image/png": "[encoded data removed]",
      "text/plain": [
       "<Figure size 720x576 with 1 Axes>"
      ]
     },
     "metadata": {
      "needs_background": "light"
     },
     "output_type": "display_data"
    }
   ],
   "source": [
    "plt.plot(gap_list)\n",
    "# plt.plot(kfac_tic_list)\n",
    "# plt.plot(np.sqrt(np.array(kfac_tic_list)))\n",
    "meas = np.array(low_rank_tic_list)#-np.array(low_rank_tic_list)[0]\n",
    "plt.plot(meas)\n",
    "plt.xlabel('steps')\n",
    "plt.ylabel('gap')\n",
    "# plt.yscale('log')"
   ]
  },
  {
   "cell_type": "code",
   "execution_count": 88,
   "metadata": {},
   "outputs": [],
   "source": [
    "Fte = calculate_fisher(args, test_loader, model)"
   ]
  },
  {
   "cell_type": "code",
   "execution_count": 89,
   "metadata": {},
   "outputs": [],
   "source": [
    "Hte = calculate_hessian(args, test_loader, model)"
   ]
  },
  {
   "cell_type": "code",
   "execution_count": null,
   "metadata": {},
   "outputs": [],
   "source": [
    "Cte = calculate_covariance(args, test_loader, model)"
   ]
  },
  {
   "cell_type": "code",
   "execution_count": null,
   "metadata": {},
   "outputs": [],
   "source": [
    "np.trace(Cte)"
   ]
  },
  {
   "cell_type": "code",
   "execution_count": null,
   "metadata": {},
   "outputs": [],
   "source": [
    "np.trace(Fte)"
   ]
  },
  {
   "cell_type": "code",
   "execution_count": null,
   "metadata": {},
   "outputs": [],
   "source": [
    "np.trace(Hte)"
   ]
  },
  {
   "cell_type": "code",
   "execution_count": null,
   "metadata": {},
   "outputs": [],
   "source": [
    "iFte = np.linalg.pinv(Fte, rcond=1e-3)"
   ]
  },
  {
   "cell_type": "code",
   "execution_count": null,
   "metadata": {},
   "outputs": [],
   "source": [
    "iHte = np.linalg.pinv(Hte, rcond=1e-3)\n",
    "print(np.trace(iHte))"
   ]
  },
  {
   "cell_type": "code",
   "execution_count": null,
   "metadata": {},
   "outputs": [],
   "source": [
    "np.trace(iFte@Cte)/1000"
   ]
  },
  {
   "cell_type": "code",
   "execution_count": null,
   "metadata": {},
   "outputs": [],
   "source": [
    "np.trace(iHte@Cte)/1000"
   ]
  },
  {
   "cell_type": "code",
   "execution_count": null,
   "metadata": {},
   "outputs": [],
   "source": [
    "from kfac import KFAC\n",
    "prec = KFAC(model, 0)"
   ]
  },
  {
   "cell_type": "code",
   "execution_count": null,
   "metadata": {},
   "outputs": [],
   "source": [
    "prec"
   ]
  },
  {
   "cell_type": "code",
   "execution_count": null,
   "metadata": {},
   "outputs": [],
   "source": [
    "sum([prec.params[i]['params'][j].sum() for i in range(2) for j in range(2)])"
   ]
  },
  {
   "cell_type": "code",
   "execution_count": null,
   "metadata": {},
   "outputs": [],
   "source": [
    "plt.imshow(prec.params[0]['params'][0].detach())"
   ]
  },
  {
   "cell_type": "code",
   "execution_count": null,
   "metadata": {},
   "outputs": [],
   "source": [
    "gard = torch.autograd.grad(F.nll_loss(model(data), labels), model.parameters())"
   ]
  },
  {
   "cell_type": "code",
   "execution_count": null,
   "metadata": {},
   "outputs": [],
   "source": [
    "len(list(gard))"
   ]
  },
  {
   "cell_type": "code",
   "execution_count": null,
   "metadata": {},
   "outputs": [],
   "source": [
    "prec.params"
   ]
  },
  {
   "cell_type": "code",
   "execution_count": null,
   "metadata": {},
   "outputs": [],
   "source": [
    "torch.sum(gard[0]*gard[0]*prec.params[0]['params'][0])+torch.sum(gard[1]*gard[1]*prec.params[1]['params'][0])+torch.sum(gard[2]*gard[2]*prec.params[0]['params'][1])+torch.sum(gard[3]*gard[3]*prec.params[1]['params'][1])"
   ]
  },
  {
   "cell_type": "code",
   "execution_count": null,
   "metadata": {},
   "outputs": [],
   "source": [
    "res = 0\n",
    "for i in range(len(gard)):\n",
    "    res += torch.sum(gard[i]*gard[i]*prec.params[i//2]['params'][i%2])\n",
    "print(res)"
   ]
  },
  {
   "cell_type": "code",
   "execution_count": null,
   "metadata": {},
   "outputs": [],
   "source": [
    "eps = 0\n",
    "eig_arr_tr = (np.array(eig_list_tr))\n",
    "eig_arr_tr += eps\n",
    "eig_arr_te = (np.array(eig_list_te))\n",
    "eig_arr_te += eps"
   ]
  },
  {
   "cell_type": "code",
   "execution_count": null,
   "metadata": {},
   "outputs": [],
   "source": [
    "plt.plot(np.arange(13), eig_arr_tr, '+')\n",
    "plt.yscale('log')\n",
    "plt.show()\n"
   ]
  },
  {
   "cell_type": "code",
   "execution_count": null,
   "metadata": {},
   "outputs": [],
   "source": [
    "eps = 1e-10\n",
    "data_tr = [[int(i), np.log10(np.abs(v)+eps)] for i in range(len(eig_list_tr)) for v in eig_list_tr[i]]\n",
    "dataset_tr = pd.DataFrame(data_tr, columns = ['step', 'eig'])\n"
   ]
  },
  {
   "cell_type": "code",
   "execution_count": null,
   "metadata": {},
   "outputs": [],
   "source": [
    "data_te = [[int(i), np.log10(np.abs(v)+eps)] for i in range(len(eig_list_te)) for v in eig_list_te[i]]\n",
    "dataset_te = pd.DataFrame(data_te, columns = ['step', 'eig'])"
   ]
  },
  {
   "cell_type": "code",
   "execution_count": null,
   "metadata": {},
   "outputs": [],
   "source": [
    "fig_size = plt.rcParams[\"figure.figsize\"]  \n",
    "fig_size[0] = 20  \n",
    "fig_size[1] = 12 \n",
    "plt.rcParams[\"figure.figsize\"] = fig_size  \n",
    "plt.rcParams.update({'font.size': 20})"
   ]
  },
  {
   "cell_type": "code",
   "execution_count": null,
   "metadata": {},
   "outputs": [],
   "source": [
    "sns.violinplot(data=dataset_tr, x='step', y='eig')"
   ]
  },
  {
   "cell_type": "code",
   "execution_count": null,
   "metadata": {},
   "outputs": [],
   "source": [
    "sns.violinplot(data=dataset_te, x='step', y='eig')"
   ]
  },
  {
   "cell_type": "code",
   "execution_count": null,
   "metadata": {},
   "outputs": [],
   "source": [
    "sns.distplot(eig_list_te[5], bins=150, rug=True, kde=False)\n",
    "plt.xscale('log')\n",
    "# plt.yscale('log')"
   ]
  },
  {
   "cell_type": "code",
   "execution_count": null,
   "metadata": {},
   "outputs": [],
   "source": [
    "eig_arr_te[:,-10:].shape"
   ]
  },
  {
   "cell_type": "code",
   "execution_count": null,
   "metadata": {},
   "outputs": [],
   "source": [
    "# plt.plot(eig_arr_tr[:,-100:])\n",
    "\n",
    "# plt.plot(eig_arr_tr[:,100:200])\n",
    "\n",
    "plt.plot(eig_arr_tr)\n",
    "# plt.yscale('log')"
   ]
  },
  {
   "cell_type": "code",
   "execution_count": null,
   "metadata": {},
   "outputs": [],
   "source": []
  },
  {
   "cell_type": "code",
   "execution_count": null,
   "metadata": {},
   "outputs": [],
   "source": [
    "def approx_H1C(args, loader, model, n_est=None, lanbda = 1e-4):\n",
    "    if n_est is None:\n",
    "        n_est = args.estim_size\n",
    "    \n",
    "    n_param = sum(p.numel() for p in model.parameters())\n",
    "    C = calculate_covariance(args, loader, model)\n",
    "    H1C = lanbda*C\n",
    "    \n",
    "    n_examples = 0\n",
    "    for i, (data, labels) in enumerate(loader):\n",
    "        data, labels = data.to(args.device), labels.to(args.device)\n",
    "        y_pred = model(data)\n",
    "        loss = F.nll_loss(y_pred, labels, reduction='sum')/data.size(0)\n",
    "        n_examples += data.size(0)\n",
    "        \n",
    "        temp = []\n",
    "        grads = torch.autograd.grad(loss, model.parameters(), create_graph=True, retain_graph=True)\n",
    "        grads = torch.cat([g.view(-1) for g in grads])\n",
    "\n",
    "        for i in range(grads.numel()):\n",
    "            grad2 = torch.autograd.grad(grads[i], model.parameters(), retain_graph=True)\n",
    "            grad2 = torch.cat([g.contiguous().view(-1) for g in grad2])\n",
    "            temp.append(grad2.cpu().numpy())\n",
    "        H = np.array(temp)\n",
    "#         print(f'Trace H: {np.trace(H)}' )\n",
    "        H1C = lanbda*C + (np.eye(n_param) - lanbda*H)@H1C@C\n",
    "        \n",
    "        if n_examples > n_est:\n",
    "            break\n",
    "    return H1C/lanbda\n",
    "    "
   ]
  },
  {
   "cell_type": "code",
   "execution_count": null,
   "metadata": {},
   "outputs": [],
   "source": [
    "Htr = calculate_hessian(args, train_loader, model)\n",
    "Hte = calculate_hessian(args, test_loader, model)\n",
    "Ctr = calculate_covariance(args, train_loader, model)\n",
    "Cte = calculate_covariance(args, test_loader, model)\n",
    "\n",
    "Ftr = calculate_fisher(args, train_loader, model)\n",
    "Fte = calculate_fisher(args, test_loader, model)"
   ]
  },
  {
   "cell_type": "code",
   "execution_count": null,
   "metadata": {},
   "outputs": [],
   "source": [
    "\n",
    "H1Ctr = np.linalg.pinv(Htr, rcond=1e-3)@Ctr\n"
   ]
  },
  {
   "cell_type": "code",
   "execution_count": null,
   "metadata": {},
   "outputs": [],
   "source": [
    "n_range = [10, 30, 50, 100, 500, 750, 1000, 1500, 1750, 2000]\n",
    "H1C_est_list = [approx_H1C(args, train_loader, model, n_est=n_est, lanbda = 1e-4) for n_est in n_range]"
   ]
  },
  {
   "cell_type": "code",
   "execution_count": null,
   "metadata": {},
   "outputs": [],
   "source": [
    "# H1C_est_list"
   ]
  },
  {
   "cell_type": "code",
   "execution_count": null,
   "metadata": {},
   "outputs": [],
   "source": [
    "# plt.axhline(np.trace(H1Ctr), label='H1Ctr')\n",
    "plt.axhline(np.trace(Htr), label='Htr', c='r')\n",
    "plt.axhline(np.trace(Ctr), label='Ctr')\n",
    "plt.plot(np.array(n_range), np.array([np.trace(e) for e in H1C_est_list]), 'o-', label='H1Ctr_est')\n",
    "# plt.plot(np.array(n_range), np.array([np.trace(e) for e in H1C_est_list]), 'o-', label='H1Ctr_est2')\n",
    "plt.legend()\n",
    "plt.yscale('log')"
   ]
  },
  {
   "cell_type": "code",
   "execution_count": null,
   "metadata": {},
   "outputs": [],
   "source": [
    "print(np.trace(Ctr))\n",
    "print(np.trace(Htr))\n",
    "print(np.trace(H1Ctr))\n",
    "# print(np.trace(H1C_est))\n",
    "print(gap*N)"
   ]
  },
  {
   "cell_type": "code",
   "execution_count": null,
   "metadata": {},
   "outputs": [],
   "source": [
    "wHtr, vHtr = np.linalg.eigh(Htr)\n",
    "wHte, vHte = np.linalg.eigh(Hte)"
   ]
  },
  {
   "cell_type": "code",
   "execution_count": null,
   "metadata": {},
   "outputs": [],
   "source": [
    "wCtr, vCtr = np.linalg.eigh(Ctr)\n",
    "wCte, vCte = np.linalg.eigh(Cte)"
   ]
  },
  {
   "cell_type": "code",
   "execution_count": null,
   "metadata": {},
   "outputs": [],
   "source": [
    "mattr = vHtr.T@vCtr\n",
    "matte = vHte.T@vCte"
   ]
  },
  {
   "cell_type": "code",
   "execution_count": null,
   "metadata": {},
   "outputs": [],
   "source": [
    "plt.imshow(np.log10(np.abs(mattr+1e-8)))"
   ]
  },
  {
   "cell_type": "code",
   "execution_count": null,
   "metadata": {},
   "outputs": [],
   "source": []
  },
  {
   "cell_type": "code",
   "execution_count": null,
   "metadata": {},
   "outputs": [],
   "source": [
    "plt.imshow(np.log10(np.abs(mattr+1e-8)))"
   ]
  },
  {
   "cell_type": "code",
   "execution_count": null,
   "metadata": {},
   "outputs": [],
   "source": [
    "plt.imshow(np.log10(np.abs(matte+1e-8)))"
   ]
  },
  {
   "cell_type": "code",
   "execution_count": null,
   "metadata": {},
   "outputs": [],
   "source": [
    "plt.hist(wHte, bins=50)\n",
    "plt.yscale('log')\n",
    "# plt.xscale('log')"
   ]
  },
  {
   "cell_type": "code",
   "execution_count": null,
   "metadata": {},
   "outputs": [],
   "source": [
    "plt.hist(wCte, bins=50)\n",
    "plt.yscale('log')\n",
    "# plt.xscale('log')"
   ]
  },
  {
   "cell_type": "code",
   "execution_count": null,
   "metadata": {},
   "outputs": [],
   "source": [
    "plt.semilogx(np.abs(np.diag(matte)[::-1]), label='te')\n",
    "plt.semilogx(np.abs(np.diag(mattr)[::-1]), label='tr')\n",
    "plt.legend()"
   ]
  },
  {
   "cell_type": "code",
   "execution_count": null,
   "metadata": {},
   "outputs": [],
   "source": [
    "np.trace(np.linalg.pinv(Htr, rcond=1e-3)@Ctr)/args.dataset_size"
   ]
  },
  {
   "cell_type": "code",
   "execution_count": null,
   "metadata": {},
   "outputs": [],
   "source": [
    "np.trace(np.linalg.pinv(Hte, rcond=1e-3)@Cte)/args.dataset_size"
   ]
  },
  {
   "cell_type": "code",
   "execution_count": null,
   "metadata": {},
   "outputs": [],
   "source": [
    "gap"
   ]
  },
  {
   "cell_type": "code",
   "execution_count": null,
   "metadata": {},
   "outputs": [],
   "source": [
    "np.max(wCte)/np.max(wHte)"
   ]
  },
  {
   "cell_type": "code",
   "execution_count": null,
   "metadata": {},
   "outputs": [],
   "source": [
    "np.max(wCtr)/np.max(wHtr)"
   ]
  },
  {
   "cell_type": "code",
   "execution_count": null,
   "metadata": {},
   "outputs": [],
   "source": [
    "plt.plot((wCtr-wHtr)[::-1], label='tr')\n",
    "plt.plot((wCte-wHte)[::-1], label='te')\n",
    "plt.axhline(y=0, color='r', linestyle='-')\n",
    "plt.legend()\n",
    "plt.xscale('log')\n",
    "plt.yscale('symlog')\n",
    "plt.title('Difference of eigenvalues')"
   ]
  },
  {
   "cell_type": "code",
   "execution_count": null,
   "metadata": {},
   "outputs": [],
   "source": [
    "plt.semilogx((wCtr/(1e-4+wHtr))[::-1], label='tr')\n",
    "plt.semilogx((wCte/(1e-4+wHte))[::-1], label='te')\n",
    "plt.axhline(y=1, color='r', linestyle='-')\n",
    "plt.legend()\n",
    "plt.title('Ratio of eigenvalues')"
   ]
  },
  {
   "cell_type": "code",
   "execution_count": null,
   "metadata": {},
   "outputs": [],
   "source": [
    "print((wCtr/(1e-2+wHtr)).sum())\n",
    "print((wCte/(1e-2+wHte)).sum())"
   ]
  },
  {
   "cell_type": "code",
   "execution_count": null,
   "metadata": {},
   "outputs": [],
   "source": [
    "np.trace((Htr@Ctr)/(np.linalg.norm(Htr)*np.linalg.norm(Ctr)))"
   ]
  },
  {
   "cell_type": "code",
   "execution_count": null,
   "metadata": {},
   "outputs": [],
   "source": [
    "np.trace((Hte@Cte)/(np.linalg.norm(Hte)*np.linalg.norm(Cte)))"
   ]
  },
  {
   "cell_type": "code",
   "execution_count": null,
   "metadata": {},
   "outputs": [],
   "source": [
    "vec_a = np.linspace(0.1, 9, 100)\n",
    "vec_norm_te = [(((Cte-a*Hte)**2).sum()/(Cte**2).sum()) for a in vec_a]\n",
    "vec_norm_tr = [(((Ctr-a*Htr)**2).sum()/(Ctr**2).sum()) for a in vec_a]"
   ]
  },
  {
   "cell_type": "code",
   "execution_count": null,
   "metadata": {},
   "outputs": [],
   "source": [
    "fig, ax=plt.subplots()\n",
    "plt.plot(vec_a, vec_norm_tr, label='train')\n",
    "plt.plot(vec_a, vec_norm_te, label='test')\n",
    "plt.axhline(y=0.1, color='r', linestyle='-')\n",
    "plt.axhline(y=0.01, color='r', linestyle='-')\n",
    "plt.axvline(x=1, color='r', linestyle='-')\n",
    "\n",
    "ax.set_yticks([0.01, 0.1, 1])\n",
    "\n",
    "plt.ylabel(r'$\\frac{||\\mathbf{C}-\\alpha \\mathbf{H}||^2}{||\\mathbf{H}||^2}$')\n",
    "plt.xlabel(r'$\\alpha$')\n",
    "plt.grid('on')\n",
    "\n",
    "plt.yscale('log')\n",
    "plt.legend()"
   ]
  },
  {
   "cell_type": "code",
   "execution_count": null,
   "metadata": {},
   "outputs": [],
   "source": [
    "def parameters_to_vector(parameters):\n",
    "    r\"\"\"Convert parameters to one vector\n",
    "    Arguments:\n",
    "        parameters (Iterable[Tensor]): an iterator of Tensors that are the\n",
    "            parameters of a model.\n",
    "    Returns:\n",
    "        The parameters represented by a single vector\n",
    "    \"\"\"\n",
    "    # Flag for the device where the parameter is located\n",
    "    param_device = None\n",
    "\n",
    "    vec = []\n",
    "    for param in parameters:\n",
    "        # Ensure the parameters are located in the same device\n",
    "        #param_device = _check_param_device(param, param_device)\n",
    "\n",
    "        vec.append(param.cpu().view(-1))\n",
    "    return torch.cat(vec)"
   ]
  },
  {
   "cell_type": "code",
   "execution_count": null,
   "metadata": {},
   "outputs": [],
   "source": [
    "theta = np.array(parameters_to_vector(model.parameters()).detach())"
   ]
  },
  {
   "cell_type": "code",
   "execution_count": null,
   "metadata": {},
   "outputs": [],
   "source": [
    "print(theta.shape)\n",
    "print(Htr.shape)"
   ]
  },
  {
   "cell_type": "code",
   "execution_count": null,
   "metadata": {},
   "outputs": [],
   "source": [
    "inv_Htr = np.linalg.pinv(Htr, rcond=1e-4)\n",
    "inv_Hte = np.linalg.pinv(Hte, rcond=1e-4)"
   ]
  },
  {
   "cell_type": "code",
   "execution_count": null,
   "metadata": {},
   "outputs": [],
   "source": [
    "np.trace(inv_Htr)"
   ]
  },
  {
   "cell_type": "code",
   "execution_count": null,
   "metadata": {},
   "outputs": [],
   "source": [
    "frob_sim(inv_Hte, np.outer(theta, theta))"
   ]
  },
  {
   "cell_type": "code",
   "execution_count": null,
   "metadata": {},
   "outputs": [],
   "source": [
    "module = list(model.children())[0]\n",
    "print(module)"
   ]
  },
  {
   "cell_type": "code",
   "execution_count": null,
   "metadata": {},
   "outputs": [],
   "source": [
    "module[0].weight.svd()"
   ]
  },
  {
   "cell_type": "code",
   "execution_count": null,
   "metadata": {},
   "outputs": [],
   "source": [
    "n = 3\n",
    "p = 2\n",
    "f = torch.randn(n, p)\n",
    "f.requires_grad = True\n",
    "F.log_softmax(f, dim=1)"
   ]
  },
  {
   "cell_type": "code",
   "execution_count": null,
   "metadata": {},
   "outputs": [],
   "source": [
    "torch.autograd.grad(F.log_softmax(f, dim=1)[0,0], f, retain_graph=True)[0]"
   ]
  },
  {
   "cell_type": "code",
   "execution_count": null,
   "metadata": {},
   "outputs": [],
   "source": [
    "p = 5\n",
    "n = 10000\n",
    "mat = np.zeros((p, p))\n",
    "\n",
    "for i in range(n):\n",
    "    f = torch.randn(1, p)\n",
    "    f.requires_grad = True\n",
    "    \n",
    "    list_grads = []\n",
    "    for k in range(p):\n",
    "        grad = torch.autograd.grad(F.log_softmax(f, dim=1)[0, k], f)[0].squeeze()\n",
    "        list_grads.append(grad.numpy())\n",
    "    \n",
    "    mat += np.array(list_grads)\n",
    "    \n",
    "mat /= n\n",
    "\n",
    "print(mat)"
   ]
  },
  {
   "cell_type": "code",
   "execution_count": null,
   "metadata": {},
   "outputs": [],
   "source": [
    "plt.imshow(mat)\n",
    "plt.colorbar()"
   ]
  },
  {
   "cell_type": "code",
   "execution_count": null,
   "metadata": {},
   "outputs": [],
   "source": []
  },
  {
   "cell_type": "code",
   "execution_count": null,
   "metadata": {},
   "outputs": [],
   "source": [
    "loader = test_loader\n",
    "n_param = sum(p.numel() for p in model.parameters())\n",
    "cov = torch.zeros(n_param, n_param).to(args.device)\n",
    "n_examples = 0\n",
    "# mat = np.zeros((10, 10))\n",
    "matC = np.zeros((10, 10))\n",
    "matF = np.zeros((10, 10))\n",
    "\n",
    "\n",
    "scalarsC = []\n",
    "scalarsF = []\n",
    "accuracies = []\n",
    "max_prob = []\n",
    "\n",
    "for i, (x, y) in enumerate(loader):\n",
    "    x, y = x.to(args.device), y.to(args.device)\n",
    "    for t in range(x.size(0)):\n",
    "        f = model.logits(x[t].unsqueeze(0))\n",
    "        y_fisher = torch.multinomial(F.softmax(f, dim=-1), 1).squeeze().detach()\n",
    "        \n",
    "        prob = F.softmax(f, dim=-1).detach().squeeze().numpy()\n",
    "    \n",
    "        list_grads = []\n",
    "        for k in range(10):\n",
    "            grad = torch.autograd.grad(F.log_softmax(f, dim=1)[0, k], f)[0].squeeze()\n",
    "            list_grads.append(grad.numpy())\n",
    "\n",
    "        g =  np.array(list_grads)\n",
    "#         print(g)\n",
    "        \n",
    "        label_true = y[t].item()\n",
    "#         print(label_true, y_fisher.item())\n",
    "        \n",
    "        elpC = np.outer(g[:,label_true], g[:,label_true])\n",
    "        elpF = np.outer(g[:,y_fisher], g[:,y_fisher])#np.outer(g@prob, g@prob)\n",
    "        matC += elpC\n",
    "        matF += elpF\n",
    "        scalarsC.append(np.trace(elpC))\n",
    "        scalarsF.append(np.trace(elpF))\n",
    "        accuracies.append(np.argmax(prob) == label_true)\n",
    "        max_prob.append(np.max(prob))\n",
    "        \n",
    "    \n",
    "#         y_pred = model(x[t].unsqueeze(0))\n",
    "#         loss = F.nll_loss(y_pred, y[t].unsqueeze(0), size_average=False)\n",
    "\n",
    "#         grads = torch.autograd.grad(loss, model.parameters())\n",
    "#         grads = torch.cat([g.view(-1) for g in grads])\n",
    "#         #optimizer.zero_grad()\n",
    "#         cov += torch.ger(grads, grads).detach()\n",
    "    n_examples += x.size(0)\n",
    "#     break\n",
    "    \n",
    "#     break\n",
    "    if n_examples> args.estim_size:\n",
    "        break\n",
    "\n",
    "matC /= n_examples\n",
    "matF /= n_examples\n",
    "\n",
    "scalarsC = np.array(scalarsC)\n",
    "scalarsF = np.array(scalarsF)\n",
    "accuracies = np.array(accuracies)\n",
    "max_prob = np.array(max_prob)"
   ]
  },
  {
   "cell_type": "code",
   "execution_count": null,
   "metadata": {},
   "outputs": [],
   "source": [
    "plt.imshow(matC)\n",
    "plt.colorbar()"
   ]
  },
  {
   "cell_type": "code",
   "execution_count": null,
   "metadata": {},
   "outputs": [],
   "source": [
    "plt.imshow(matF)\n",
    "plt.colorbar()"
   ]
  },
  {
   "cell_type": "code",
   "execution_count": null,
   "metadata": {},
   "outputs": [],
   "source": [
    "plt.hist(scalarsC[np.where(accuracies==False)], bins=50, density=True, label='False')\n",
    "plt.hist(scalarsC[np.where(accuracies==True)], bins=50, density=True, label='True')\n",
    "plt.legend()\n",
    "# plt.yscale('log')"
   ]
  },
  {
   "cell_type": "code",
   "execution_count": null,
   "metadata": {},
   "outputs": [],
   "source": [
    "np.sort(scalarsC)"
   ]
  },
  {
   "cell_type": "code",
   "execution_count": null,
   "metadata": {},
   "outputs": [],
   "source": [
    "plt.hist(scalarsF[np.where(accuracies==False)], bins=50, density=True, label='False')\n",
    "plt.hist(scalarsF[np.where(accuracies==True)], bins=50, density=True, label='True')\n",
    "plt.legend()"
   ]
  },
  {
   "cell_type": "code",
   "execution_count": null,
   "metadata": {},
   "outputs": [],
   "source": [
    "plt.hist(max_prob[np.where(accuracies==False)], bins=50, density=True, label='False')\n",
    "plt.hist(max_prob[np.where(accuracies==True)], bins=50, density=True, label='True')\n",
    "plt.legend()"
   ]
  },
  {
   "cell_type": "code",
   "execution_count": null,
   "metadata": {},
   "outputs": [],
   "source": [
    "plt.hist( (np.abs((scalarsC-scalarsF)) / np.abs(scalarsC))[np.where(accuracies==False)], bins=50, density=True)\n",
    "plt.hist( (np.abs((scalarsC-scalarsF)) / np.abs(scalarsC))[np.where(accuracies==True)], bins=50, density=True)\n",
    "# plt.yscale('log')\n",
    "# plt.xscale('log')"
   ]
  },
  {
   "cell_type": "code",
   "execution_count": null,
   "metadata": {},
   "outputs": [],
   "source": [
    "sns.kdeplot(scalarsF)\n",
    "sns.kdeplot(scalarsC)\n",
    "# plt.yscale('log')"
   ]
  },
  {
   "cell_type": "code",
   "execution_count": null,
   "metadata": {},
   "outputs": [],
   "source": [
    "g[label_true, :]"
   ]
  },
  {
   "cell_type": "code",
   "execution_count": null,
   "metadata": {},
   "outputs": [],
   "source": [
    "label_true"
   ]
  },
  {
   "cell_type": "code",
   "execution_count": null,
   "metadata": {},
   "outputs": [],
   "source": [
    "np.round(prob)"
   ]
  },
  {
   "cell_type": "code",
   "execution_count": null,
   "metadata": {},
   "outputs": [],
   "source": [
    "prob@g"
   ]
  },
  {
   "cell_type": "code",
   "execution_count": null,
   "metadata": {},
   "outputs": [],
   "source": []
  },
  {
   "cell_type": "code",
   "execution_count": null,
   "metadata": {},
   "outputs": [],
   "source": [
    "plt.imshow(g)\n",
    "plt.colorbar()"
   ]
  },
  {
   "cell_type": "code",
   "execution_count": null,
   "metadata": {},
   "outputs": [],
   "source": [
    "g[:, label_true]"
   ]
  },
  {
   "cell_type": "code",
   "execution_count": null,
   "metadata": {},
   "outputs": [],
   "source": [
    "np.argmax(prob) == label_true"
   ]
  },
  {
   "cell_type": "code",
   "execution_count": null,
   "metadata": {},
   "outputs": [],
   "source": [
    "np.where(accuracies==True)"
   ]
  },
  {
   "cell_type": "code",
   "execution_count": null,
   "metadata": {},
   "outputs": [],
   "source": [
    "plt.imshow(g@g.T)\n",
    "plt.colorbar()"
   ]
  },
  {
   "cell_type": "code",
   "execution_count": null,
   "metadata": {},
   "outputs": [],
   "source": []
  },
  {
   "cell_type": "code",
   "execution_count": null,
   "metadata": {},
   "outputs": [],
   "source": []
  },
  {
   "cell_type": "code",
   "execution_count": null,
   "metadata": {},
   "outputs": [],
   "source": []
  }
 ],
 "metadata": {
  "kernelspec": {
   "display_name": "Python 3",
   "language": "python",
   "name": "python3"
  },
  "language_info": {
   "codemirror_mode": {
    "name": "ipython",
    "version": 3
   },
   "file_extension": ".py",
   "mimetype": "text/x-python",
   "name": "python",
   "nbconvert_exporter": "python",
   "pygments_lexer": "ipython3",
   "version": "3.7.1"
  }
 },
 "nbformat": 4,
 "nbformat_minor": 2
}
